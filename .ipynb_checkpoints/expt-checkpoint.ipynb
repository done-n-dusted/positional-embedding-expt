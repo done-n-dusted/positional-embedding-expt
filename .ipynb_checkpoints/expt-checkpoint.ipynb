{
 "cells": [
  {
   "cell_type": "code",
   "execution_count": 76,
   "id": "3c1a9b82",
   "metadata": {},
   "outputs": [],
   "source": [
    "import torch\n",
    "from torch.nn import functional as F\n",
    "from torch import nn\n",
    "from model import Model\n",
    "\n",
    "\n",
    "context_size = 4\n",
    "n_embed = 32\n",
    "n_hidden = 128\n",
    "xlen = 20\n"
   ]
  },
  {
   "cell_type": "code",
   "execution_count": 77,
   "id": "c27aafd5",
   "metadata": {},
   "outputs": [],
   "source": [
    "model = Model(context_size, n_embed, n_hidden)"
   ]
  },
  {
   "cell_type": "code",
   "execution_count": 78,
   "id": "00db3504",
   "metadata": {},
   "outputs": [],
   "source": [
    "rands = torch.randn(xlen)"
   ]
  },
  {
   "cell_type": "code",
   "execution_count": 79,
   "id": "8cd254f3",
   "metadata": {},
   "outputs": [
    {
     "data": {
      "text/plain": [
       "tensor([ 0.5756, -0.4439, -0.0815,  0.0647,  0.6098,  1.0977, -0.0243,  0.1108,\n",
       "        -0.2325,  2.2117,  0.3761, -0.1368, -0.6654, -0.3233, -0.8668, -0.2808,\n",
       "        -0.0098,  0.1435,  0.6453, -0.5248])"
      ]
     },
     "execution_count": 79,
     "metadata": {},
     "output_type": "execute_result"
    }
   ],
   "source": [
    "rands"
   ]
  },
  {
   "cell_type": "code",
   "execution_count": 80,
   "id": "7575cc49",
   "metadata": {},
   "outputs": [],
   "source": [
    "ix = torch.arange(len(rands) - context_size)"
   ]
  },
  {
   "cell_type": "code",
   "execution_count": 81,
   "id": "fa36602a",
   "metadata": {},
   "outputs": [],
   "source": [
    "def break_contexts(rands):\n",
    "    ix = torch.arange(len(rands) - context_size)\n",
    "    x = torch.stack([rands[i:i+context_size] for i in ix])\n",
    "    y = torch.stack([torch.tensor([rands[i+context_size]]) for i in ix])\n",
    "    \n",
    "    return zip(x, y)"
   ]
  },
  {
   "cell_type": "code",
   "execution_count": 82,
   "id": "faf4a2f3",
   "metadata": {},
   "outputs": [],
   "source": [
    "dataloader = break_contexts(rands)"
   ]
  },
  {
   "cell_type": "code",
   "execution_count": 85,
   "id": "8eab588b",
   "metadata": {},
   "outputs": [],
   "source": [
    "criterion = nn.MSELoss()\n",
    "optimizer = torch.optim.Adam(model.parameters())"
   ]
  },
  {
   "cell_type": "code",
   "execution_count": null,
   "id": "fa86f094",
   "metadata": {},
   "outputs": [],
   "source": [
    "num_epochs = 100\n",
    "for epoch in range(num_epochs):\n",
    "    total_loss = 0\n",
    "    for x, y in dataloader:\n",
    "        optimizer.zero_grad()\n",
    "        outputs = model(batch_inputs)\n",
    "        loss = criterion(outputs, batch_targets)\n",
    "        loss.backward()\n",
    "        optimizer.step()\n",
    "        total_loss += loss.item()\n",
    "    \n",
    "    print(f\"Epoch {epoch+1}/{num_epochs}, Loss: {total_loss/len(dataloader):.4f}\")\n"
   ]
  },
  {
   "cell_type": "code",
   "execution_count": null,
   "id": "2e16a996",
   "metadata": {},
   "outputs": [],
   "source": []
  }
 ],
 "metadata": {
  "kernelspec": {
   "display_name": "gptoy",
   "language": "python",
   "name": "gptoy"
  },
  "language_info": {
   "codemirror_mode": {
    "name": "ipython",
    "version": 3
   },
   "file_extension": ".py",
   "mimetype": "text/x-python",
   "name": "python",
   "nbconvert_exporter": "python",
   "pygments_lexer": "ipython3",
   "version": "3.10.6"
  }
 },
 "nbformat": 4,
 "nbformat_minor": 5
}
